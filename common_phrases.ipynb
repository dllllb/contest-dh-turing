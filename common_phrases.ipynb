{
 "cells": [
  {
   "cell_type": "code",
   "execution_count": 2,
   "metadata": {
    "collapsed": true
   },
   "outputs": [],
   "source": [
    "import json\n",
    "import re\n",
    "from nltk.corpus import stopwords\n",
    "from nltk.collocations import TrigramCollocationFinder, TrigramAssocMeasures\n",
    "from nltk.collocations import BigramCollocationFinder, BigramAssocMeasures"
   ]
  },
  {
   "cell_type": "code",
   "execution_count": 4,
   "metadata": {},
   "outputs": [],
   "source": [
    "dialogs = []\n",
    "for path in ('datasets/train_20170724.json', 'datasets/train_20170725.json', 'datasets/train_20170726.json'):\n",
    "    with open(path) as f:\n",
    "        daily = json.load(f)\n",
    "        dialogs += daily"
   ]
  },
  {
   "cell_type": "code",
   "execution_count": 5,
   "metadata": {
    "collapsed": true
   },
   "outputs": [],
   "source": [
    "stopwords = set(stopwords.words('english'))"
   ]
  },
  {
   "cell_type": "code",
   "execution_count": 6,
   "metadata": {
    "collapsed": true
   },
   "outputs": [],
   "source": [
    "sentences = []\n",
    "for d in dialogs:\n",
    "    for post in d['thread']:\n",
    "        text = post['text']\n",
    "        clean_text = re.sub('[^a-zA-Z\\']', ' ', text)\n",
    "        sentence = clean_text.lower().split()\n",
    "        sentence = [w for w in sentence if w not in stopwords]\n",
    "        sentences.append(sentence)"
   ]
  },
  {
   "cell_type": "code",
   "execution_count": 7,
   "metadata": {
    "collapsed": true,
    "scrolled": false
   },
   "outputs": [],
   "source": [
    "tcf = TrigramCollocationFinder.from_documents(sentences)"
   ]
  },
  {
   "cell_type": "code",
   "execution_count": 8,
   "metadata": {
    "collapsed": true
   },
   "outputs": [],
   "source": [
    "tcf = TrigramCollocationFinder.from_documents(sentences)\n",
    "filter_stops = lambda w: len(w) < 4\n",
    "tcf.apply_word_filter(filter_stops)\n",
    "trigrams = tcf.nbest(TrigramAssocMeasures.likelihood_ratio, 30)"
   ]
  },
  {
   "cell_type": "code",
   "execution_count": 10,
   "metadata": {},
   "outputs": [
    {
     "data": {
      "text/plain": [
       "[('hint', 'first', 'answer'),\n",
       " ('first', 'answer', 'letters'),\n",
       " ('still', 'incorrect', 'lets'),\n",
       " ('incorrect', 'lets', 'speak'),\n",
       " ('speak', 'something', 'else'),\n",
       " ('lets', 'speak', 'something'),\n",
       " ('better', 'hint', 'first'),\n",
       " ('second', 'please', 'wait'),\n",
       " ('something', 'else', 'relax'),\n",
       " ('question', 'second', 'please'),\n",
       " ('incorrect', 'hint', 'first'),\n",
       " ('morron', 'morron', 'morron'),\n",
       " ('something', 'else', 'birthday'),\n",
       " ('talk', 'something', 'else'),\n",
       " ('networks', 'something', 'else'),\n",
       " ('something', 'else', 'rules'),\n",
       " ('like', 'something', 'else'),\n",
       " ('wait', 'second', 'factoid'),\n",
       " ('asshole', 'asshole', 'asshole'),\n",
       " ('answer', 'letters', \"'jac'\"),\n",
       " ('second', 'factoid', 'question'),\n",
       " ('hope', 'enjoy', 'conversation'),\n",
       " ('said', 'lets', 'speak'),\n",
       " ('lets', 'talk', 'something'),\n",
       " ('friend', 'hope', 'enjoy'),\n",
       " ('friend', 'pleasure', 'speak'),\n",
       " ('enjoy', 'conversation', 'wait'),\n",
       " ('greetings', 'hope', 'enjoy'),\n",
       " ('friend', 'hope', 'chat'),\n",
       " ('word', 'morron', 'morron')]"
      ]
     },
     "execution_count": 10,
     "metadata": {},
     "output_type": "execute_result"
    }
   ],
   "source": [
    "trigrams"
   ]
  },
  {
   "cell_type": "code",
   "execution_count": 9,
   "metadata": {
    "collapsed": true
   },
   "outputs": [],
   "source": [
    "tcf = BigramCollocationFinder.from_documents(sentences)\n",
    "filter_stops = lambda w: len(w) < 4\n",
    "tcf.apply_word_filter(filter_stops)\n",
    "bigrams = tcf.nbest(BigramAssocMeasures.likelihood_ratio, 30)"
   ]
  },
  {
   "cell_type": "code",
   "execution_count": 11,
   "metadata": {},
   "outputs": [
    {
     "data": {
      "text/plain": [
       "[('hint', 'first'),\n",
       " ('something', 'else'),\n",
       " ('incorrect', 'lets'),\n",
       " ('still', 'incorrect'),\n",
       " ('answer', 'letters'),\n",
       " ('lets', 'speak'),\n",
       " ('first', 'answer'),\n",
       " ('speak', 'something'),\n",
       " ('morron', 'morron'),\n",
       " ('question', 'second'),\n",
       " ('enjoy', 'conversation'),\n",
       " ('second', 'please'),\n",
       " ('please', 'wait'),\n",
       " ('second', 'factoid'),\n",
       " ('asshole', 'asshole'),\n",
       " (\"don't\", 'know'),\n",
       " ('factoid', 'question'),\n",
       " ('hope', 'enjoy'),\n",
       " ('pleasure', 'speak'),\n",
       " ('wait', 'second'),\n",
       " ('hope', 'chat'),\n",
       " ('better', 'hint'),\n",
       " ('friend', 'hope'),\n",
       " ('friend', 'pleasure'),\n",
       " ('would', 'like'),\n",
       " ('hello', 'friend'),\n",
       " ('else', 'relax'),\n",
       " ('internal', 'server'),\n",
       " ('relax', 'wait'),\n",
       " ('server', 'error')]"
      ]
     },
     "execution_count": 11,
     "metadata": {},
     "output_type": "execute_result"
    }
   ],
   "source": [
    "bigrams"
   ]
  },
  {
   "cell_type": "code",
   "execution_count": null,
   "metadata": {
    "collapsed": true
   },
   "outputs": [],
   "source": []
  }
 ],
 "metadata": {
  "kernelspec": {
   "display_name": "Python 3",
   "language": "python",
   "name": "python3"
  },
  "language_info": {
   "codemirror_mode": {
    "name": "ipython",
    "version": 3
   },
   "file_extension": ".py",
   "mimetype": "text/x-python",
   "name": "python",
   "nbconvert_exporter": "python",
   "pygments_lexer": "ipython3",
   "version": "3.6.1"
  }
 },
 "nbformat": 4,
 "nbformat_minor": 1
}
